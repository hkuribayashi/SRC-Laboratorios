{
  "nbformat": 4,
  "nbformat_minor": 0,
  "metadata": {
    "colab": {
      "provenance": []
    },
    "kernelspec": {
      "name": "python3",
      "display_name": "Python 3"
    },
    "language_info": {
      "name": "python"
    }
  },
  "cells": [
    {
      "cell_type": "markdown",
      "source": [
        "Agora utilizaremos o conceito de criptografia simétrica com o uso da biblioteca python cryptography. No exemplo em questão utilizamos o algoritmo Advanced Encryption Standard (AES). Neste exemplo é possível testar o uso do AES nos modos Electronic CodeBook (ECB) e Cipher Block Chaining (CBC)."
      ],
      "metadata": {
        "id": "rB12AwnrDdj0"
      }
    },
    {
      "cell_type": "markdown",
      "source": [
        "Passo 1: Instalação das Dependencias/Bibliotecas"
      ],
      "metadata": {
        "id": "WdX9_QztCnmt"
      }
    },
    {
      "cell_type": "code",
      "execution_count": 18,
      "metadata": {
        "colab": {
          "base_uri": "https://localhost:8080/"
        },
        "id": "6C3YqyFFB3UG",
        "outputId": "9a1730b2-dc9d-432e-a884-19751f71b42f"
      },
      "outputs": [
        {
          "output_type": "stream",
          "name": "stdout",
          "text": [
            "Requirement already satisfied: cryptography in /usr/local/lib/python3.10/dist-packages (43.0.3)\n",
            "Requirement already satisfied: cffi>=1.12 in /usr/local/lib/python3.10/dist-packages (from cryptography) (1.17.1)\n",
            "Requirement already satisfied: pycparser in /usr/local/lib/python3.10/dist-packages (from cffi>=1.12->cryptography) (2.22)\n"
          ]
        }
      ],
      "source": [
        "pip install cryptography"
      ]
    },
    {
      "cell_type": "code",
      "source": [
        "# Passo 2: Importação das Bibliotecas\n",
        "\n",
        "import os\n",
        "from cryptography.hazmat.primitives.ciphers import Cipher, algorithms, modes"
      ],
      "metadata": {
        "id": "KoRZun8eCuZi"
      },
      "execution_count": 4,
      "outputs": []
    },
    {
      "cell_type": "code",
      "source": [
        "# Passo 3: Criação de Função para Geração de Cifra Simétrica\n",
        "def gerador_cifra(chave, modo=\"CBC\"):\n",
        "    if modo == \"CBC\":\n",
        "        iv = os.urandom(16)\n",
        "        cifra_ = Cipher(algorithms.AES(chave), modes.CBC(iv))\n",
        "    elif modo == \"ECB\":\n",
        "        cifra_ = Cipher(algorithms.AES(chave), modes.ECB())\n",
        "    else:\n",
        "        raise RuntimeError(\"Modo Inválido\")\n",
        "    return cifra_"
      ],
      "metadata": {
        "id": "E44GXytXC289"
      },
      "execution_count": 6,
      "outputs": []
    },
    {
      "cell_type": "code",
      "source": [
        "# Passo 4: Criação de Função para Criptografar Arquivo\n",
        "def criptografa_arquivo(arquivo, cifra):\n",
        "    encriptador = cifra.encryptor()\n",
        "    return encriptador.update(arquivo)"
      ],
      "metadata": {
        "id": "Xi0ImTHzDFra"
      },
      "execution_count": 7,
      "outputs": []
    },
    {
      "cell_type": "code",
      "source": [
        "# Passo 5: Criação de Função de Decrifrar Arquivo\n",
        "def decriptografa_arquivo(arquivo_criptografado, cifra):\n",
        "    decriptador = cifra.decryptor()\n",
        "    return decriptador.update(arquivo_criptografado) + decriptador.finalize()"
      ],
      "metadata": {
        "id": "pTHsgRq8DRHG"
      },
      "execution_count": 8,
      "outputs": []
    },
    {
      "cell_type": "code",
      "source": [
        "# Passo 6: Montar o diretório do Google Drive\n",
        "from google.colab import drive\n",
        "drive.mount('/content/drive')"
      ],
      "metadata": {
        "colab": {
          "base_uri": "https://localhost:8080/"
        },
        "id": "SnJqn9HHD5sq",
        "outputId": "20f800f2-ded0-43aa-a2c2-9c270688c0cb"
      },
      "execution_count": 9,
      "outputs": [
        {
          "output_type": "stream",
          "name": "stdout",
          "text": [
            "Mounted at /content/drive\n"
          ]
        }
      ]
    },
    {
      "cell_type": "code",
      "source": [
        "# Passo 7: Abre o arquivo que será criptografado\n",
        "file = '/content/drive/MyDrive/src/arquivo.txt'\n",
        "with open(file, 'rb') as f:\n",
        "        arquivo = f.read()"
      ],
      "metadata": {
        "id": "r6n6-nnzEjp1"
      },
      "execution_count": 11,
      "outputs": []
    },
    {
      "cell_type": "code",
      "source": [
        "# Passo 8: Gera chave simétrica aleatória e salva em um arquivo\n",
        "chave_simetrica = os.urandom(32)\n",
        "with open('/content/drive/MyDrive/src/chave_simetrica.txt', 'wb') as f:\n",
        "    f.write(chave_simetrica)"
      ],
      "metadata": {
        "id": "bLJ864j-E7Qi"
      },
      "execution_count": 12,
      "outputs": []
    },
    {
      "cell_type": "code",
      "source": [
        "# Passo 9: Gera uma Cifra Simétrica do tipo ECB\n",
        "cifra = gerador_cifra(chave_simetrica, \"ECB\")"
      ],
      "metadata": {
        "id": "11We0vvmFI_H"
      },
      "execution_count": 13,
      "outputs": []
    },
    {
      "cell_type": "code",
      "source": [
        "# Passo 10: Criptografar o arquivo com a chave simétrica e salva o arquivo criptografado\n",
        "arquivo_cifrado = criptografa_arquivo(arquivo, cifra)\n",
        "with open('/content/drive/MyDrive/src/arquivo.txt.encriptado', 'wb') as f:\n",
        "    f.write(arquivo_cifrado)"
      ],
      "metadata": {
        "id": "NJBVyANlFOWE"
      },
      "execution_count": 15,
      "outputs": []
    },
    {
      "cell_type": "markdown",
      "source": [
        "Após o Passo 10, vefique na pasta do Google Drive se o arquivo 'arquivo.txt.encriptado' foi criado no diretório informado."
      ],
      "metadata": {
        "id": "Xbp2JQxzFi0o"
      }
    },
    {
      "cell_type": "code",
      "source": [
        "# Passo 11: Decriptografa o arquivo\n",
        "with open('/content/drive/MyDrive/src/arquivo.txt.encriptado', 'rb') as f:\n",
        "    novo_arquivo = f.read()\n",
        "arquivo_plano = decriptografa_arquivo(novo_arquivo, cifra)"
      ],
      "metadata": {
        "id": "gQBRXQEtFymU"
      },
      "execution_count": 16,
      "outputs": []
    },
    {
      "cell_type": "code",
      "source": [
        "# Passo 12: Salva novo arquivo gerado\n",
        "with open('/content/drive/MyDrive/src/novo_arquivo.txt', 'wb') as f:\n",
        "    f.write(arquivo_plano)"
      ],
      "metadata": {
        "id": "9qqbm2_TGBgG"
      },
      "execution_count": 17,
      "outputs": []
    }
  ]
}